{
 "cells": [
  {
   "cell_type": "markdown",
   "id": "d8e0656e-dd05-4cae-afe3-1cbb6b776249",
   "metadata": {},
   "source": [
    "# 1. Importing required libraries for data manipulation and visualization"
   ]
  },
  {
   "cell_type": "code",
   "execution_count": null,
   "id": "d22edb07-943a-4c13-b7e8-11cfa061d239",
   "metadata": {},
   "outputs": [],
   "source": [
    "import pandas as pd                  # For handling tabular data\n",
    "import numpy as np                   # For numerical operations\n",
    "import matplotlib.pyplot as plt      # For basic plotting\n",
    "import seaborn as sns                # For advanced and attractive statistical plots"
   ]
  },
  {
   "cell_type": "markdown",
   "id": "75455cf5-923c-4c64-a020-bc2017c72020",
   "metadata": {},
   "source": [
    "# # Specifying the path to the dataset file (CSV format)"
   ]
  },
  {
   "cell_type": "code",
   "execution_count": 8,
   "id": "26776503-6ce8-4412-b1a0-edcc033088a7",
   "metadata": {},
   "outputs": [],
   "source": [
    "path = 'C:/Users/HP/Documents/Unified Mentor Intern Project/Data set/Drug_Side effects_Medical condition.csv'"
   ]
  },
  {
   "cell_type": "markdown",
   "id": "de0eb62b-9d32-48f4-b9fa-38b6b0a762f7",
   "metadata": {},
   "source": [
    "# Reading the CSV data into a pandas DataFrame"
   ]
  },
  {
   "cell_type": "code",
   "execution_count": 9,
   "id": "1f3c292b-c275-4ad2-b0cd-e0f815bb4ed4",
   "metadata": {},
   "outputs": [],
   "source": [
    "df = pd.read_csv(path)"
   ]
  },
  {
   "cell_type": "markdown",
   "id": "ed573b02-29d0-4613-86a8-8970087b85c2",
   "metadata": {},
   "source": [
    "# Displaying the entire DataFrame (be cautious with large datasets)"
   ]
  },
  {
   "cell_type": "code",
   "execution_count": 10,
   "id": "343edc79-b462-43a0-86e5-1022c22e09fd",
   "metadata": {
    "scrolled": true
   },
   "outputs": [
    {
     "data": {
      "text/html": [
       "<div>\n",
       "<style scoped>\n",
       "    .dataframe tbody tr th:only-of-type {\n",
       "        vertical-align: middle;\n",
       "    }\n",
       "\n",
       "    .dataframe tbody tr th {\n",
       "        vertical-align: top;\n",
       "    }\n",
       "\n",
       "    .dataframe thead th {\n",
       "        text-align: right;\n",
       "    }\n",
       "</style>\n",
       "<table border=\"1\" class=\"dataframe\">\n",
       "  <thead>\n",
       "    <tr style=\"text-align: right;\">\n",
       "      <th></th>\n",
       "      <th>drug_name</th>\n",
       "      <th>medical_condition</th>\n",
       "      <th>side_effects</th>\n",
       "      <th>generic_name</th>\n",
       "      <th>drug_classes</th>\n",
       "      <th>brand_names</th>\n",
       "      <th>activity</th>\n",
       "      <th>rx_otc</th>\n",
       "      <th>pregnancy_category</th>\n",
       "      <th>csa</th>\n",
       "      <th>alcohol</th>\n",
       "      <th>related_drugs</th>\n",
       "      <th>medical_condition_description</th>\n",
       "      <th>rating</th>\n",
       "      <th>no_of_reviews</th>\n",
       "      <th>drug_link</th>\n",
       "      <th>medical_condition_url</th>\n",
       "    </tr>\n",
       "  </thead>\n",
       "  <tbody>\n",
       "    <tr>\n",
       "      <th>0</th>\n",
       "      <td>doxycycline</td>\n",
       "      <td>Acne</td>\n",
       "      <td>(hives, difficult breathing, swelling in your ...</td>\n",
       "      <td>doxycycline</td>\n",
       "      <td>Miscellaneous antimalarials, Tetracyclines</td>\n",
       "      <td>Acticlate, Adoxa CK, Adoxa Pak, Adoxa TT, Alod...</td>\n",
       "      <td>87%</td>\n",
       "      <td>Rx</td>\n",
       "      <td>D</td>\n",
       "      <td>N</td>\n",
       "      <td>X</td>\n",
       "      <td>amoxicillin: https://www.drugs.com/amoxicillin...</td>\n",
       "      <td>Acne Other names: Acne Vulgaris; Blackheads; B...</td>\n",
       "      <td>6.8</td>\n",
       "      <td>760.0</td>\n",
       "      <td>https://www.drugs.com/doxycycline.html</td>\n",
       "      <td>https://www.drugs.com/condition/acne.html</td>\n",
       "    </tr>\n",
       "    <tr>\n",
       "      <th>1</th>\n",
       "      <td>spironolactone</td>\n",
       "      <td>Acne</td>\n",
       "      <td>hives ; difficulty breathing; swelling of your...</td>\n",
       "      <td>spironolactone</td>\n",
       "      <td>Aldosterone receptor antagonists, Potassium-sp...</td>\n",
       "      <td>Aldactone, CaroSpir</td>\n",
       "      <td>82%</td>\n",
       "      <td>Rx</td>\n",
       "      <td>C</td>\n",
       "      <td>N</td>\n",
       "      <td>X</td>\n",
       "      <td>amlodipine: https://www.drugs.com/amlodipine.h...</td>\n",
       "      <td>Acne Other names: Acne Vulgaris; Blackheads; B...</td>\n",
       "      <td>7.2</td>\n",
       "      <td>449.0</td>\n",
       "      <td>https://www.drugs.com/spironolactone.html</td>\n",
       "      <td>https://www.drugs.com/condition/acne.html</td>\n",
       "    </tr>\n",
       "    <tr>\n",
       "      <th>2</th>\n",
       "      <td>minocycline</td>\n",
       "      <td>Acne</td>\n",
       "      <td>skin rash, fever, swollen glands, flu-like sym...</td>\n",
       "      <td>minocycline</td>\n",
       "      <td>Tetracyclines</td>\n",
       "      <td>Dynacin, Minocin, Minolira, Solodyn, Ximino, V...</td>\n",
       "      <td>48%</td>\n",
       "      <td>Rx</td>\n",
       "      <td>D</td>\n",
       "      <td>N</td>\n",
       "      <td>NaN</td>\n",
       "      <td>amoxicillin: https://www.drugs.com/amoxicillin...</td>\n",
       "      <td>Acne Other names: Acne Vulgaris; Blackheads; B...</td>\n",
       "      <td>5.7</td>\n",
       "      <td>482.0</td>\n",
       "      <td>https://www.drugs.com/minocycline.html</td>\n",
       "      <td>https://www.drugs.com/condition/acne.html</td>\n",
       "    </tr>\n",
       "    <tr>\n",
       "      <th>3</th>\n",
       "      <td>Accutane</td>\n",
       "      <td>Acne</td>\n",
       "      <td>problems with your vision or hearing; muscle o...</td>\n",
       "      <td>isotretinoin (oral)</td>\n",
       "      <td>Miscellaneous antineoplastics, Miscellaneous u...</td>\n",
       "      <td>NaN</td>\n",
       "      <td>41%</td>\n",
       "      <td>Rx</td>\n",
       "      <td>X</td>\n",
       "      <td>N</td>\n",
       "      <td>X</td>\n",
       "      <td>doxycycline: https://www.drugs.com/doxycycline...</td>\n",
       "      <td>Acne Other names: Acne Vulgaris; Blackheads; B...</td>\n",
       "      <td>7.9</td>\n",
       "      <td>623.0</td>\n",
       "      <td>https://www.drugs.com/accutane.html</td>\n",
       "      <td>https://www.drugs.com/condition/acne.html</td>\n",
       "    </tr>\n",
       "    <tr>\n",
       "      <th>4</th>\n",
       "      <td>clindamycin</td>\n",
       "      <td>Acne</td>\n",
       "      <td>hives ; difficult breathing; swelling of your ...</td>\n",
       "      <td>clindamycin topical</td>\n",
       "      <td>Topical acne agents, Vaginal anti-infectives</td>\n",
       "      <td>Cleocin T, Clindacin ETZ, Clindacin P, Clindag...</td>\n",
       "      <td>39%</td>\n",
       "      <td>Rx</td>\n",
       "      <td>B</td>\n",
       "      <td>N</td>\n",
       "      <td>NaN</td>\n",
       "      <td>doxycycline: https://www.drugs.com/doxycycline...</td>\n",
       "      <td>Acne Other names: Acne Vulgaris; Blackheads; B...</td>\n",
       "      <td>7.4</td>\n",
       "      <td>146.0</td>\n",
       "      <td>https://www.drugs.com/mtm/clindamycin-topical....</td>\n",
       "      <td>https://www.drugs.com/condition/acne.html</td>\n",
       "    </tr>\n",
       "    <tr>\n",
       "      <th>...</th>\n",
       "      <td>...</td>\n",
       "      <td>...</td>\n",
       "      <td>...</td>\n",
       "      <td>...</td>\n",
       "      <td>...</td>\n",
       "      <td>...</td>\n",
       "      <td>...</td>\n",
       "      <td>...</td>\n",
       "      <td>...</td>\n",
       "      <td>...</td>\n",
       "      <td>...</td>\n",
       "      <td>...</td>\n",
       "      <td>...</td>\n",
       "      <td>...</td>\n",
       "      <td>...</td>\n",
       "      <td>...</td>\n",
       "      <td>...</td>\n",
       "    </tr>\n",
       "    <tr>\n",
       "      <th>1111</th>\n",
       "      <td>Breyna</td>\n",
       "      <td>COPD</td>\n",
       "      <td>NaN</td>\n",
       "      <td>budesonide and formoterol fumarate</td>\n",
       "      <td>Bronchodilator combinations</td>\n",
       "      <td>NaN</td>\n",
       "      <td>0%</td>\n",
       "      <td>Rx</td>\n",
       "      <td>C</td>\n",
       "      <td>N</td>\n",
       "      <td>NaN</td>\n",
       "      <td>Trelegy Ellipta: https://www.drugs.com/trelegy...</td>\n",
       "      <td>COPD Other names: Bronchitis with Airway Obstr...</td>\n",
       "      <td>NaN</td>\n",
       "      <td>NaN</td>\n",
       "      <td>https://www.drugs.com/pro/breyna.html</td>\n",
       "      <td>https://www.drugs.com/condition/chronic-obstru...</td>\n",
       "    </tr>\n",
       "    <tr>\n",
       "      <th>1112</th>\n",
       "      <td>budesonide / formoterol / glycopyrrolate</td>\n",
       "      <td>COPD</td>\n",
       "      <td>hives ; difficulty breathing; swelling of your...</td>\n",
       "      <td>budesonide, formoterol, and glycopyrrolate</td>\n",
       "      <td>Bronchodilator combinations</td>\n",
       "      <td>Breztri Aerosphere</td>\n",
       "      <td>0%</td>\n",
       "      <td>Rx</td>\n",
       "      <td>NaN</td>\n",
       "      <td>N</td>\n",
       "      <td>X</td>\n",
       "      <td>NaN</td>\n",
       "      <td>COPD Other names: Bronchitis with Airway Obstr...</td>\n",
       "      <td>6.7</td>\n",
       "      <td>3.0</td>\n",
       "      <td>https://www.drugs.com/mtm/budesonide-formotero...</td>\n",
       "      <td>https://www.drugs.com/condition/chronic-obstru...</td>\n",
       "    </tr>\n",
       "    <tr>\n",
       "      <th>1113</th>\n",
       "      <td>Duaklir Pressair</td>\n",
       "      <td>COPD</td>\n",
       "      <td>hives ; difficult breathing; swelling of your ...</td>\n",
       "      <td>aclidinium and formoterol</td>\n",
       "      <td>Bronchodilator combinations</td>\n",
       "      <td>NaN</td>\n",
       "      <td>0%</td>\n",
       "      <td>Rx</td>\n",
       "      <td>NaN</td>\n",
       "      <td>N</td>\n",
       "      <td>NaN</td>\n",
       "      <td>NaN</td>\n",
       "      <td>COPD Other names: Bronchitis with Airway Obstr...</td>\n",
       "      <td>NaN</td>\n",
       "      <td>NaN</td>\n",
       "      <td>https://www.drugs.com/duaklir-pressair.html</td>\n",
       "      <td>https://www.drugs.com/condition/chronic-obstru...</td>\n",
       "    </tr>\n",
       "    <tr>\n",
       "      <th>1114</th>\n",
       "      <td>formoterol / glycopyrrolate</td>\n",
       "      <td>COPD</td>\n",
       "      <td>hives ; difficult breathing; swelling of your ...</td>\n",
       "      <td>formoterol and glycopyrrolate</td>\n",
       "      <td>Bronchodilator combinations</td>\n",
       "      <td>Bevespi Aerosphere</td>\n",
       "      <td>0%</td>\n",
       "      <td>Rx</td>\n",
       "      <td>NaN</td>\n",
       "      <td>N</td>\n",
       "      <td>X</td>\n",
       "      <td>Trelegy Ellipta: https://www.drugs.com/trelegy...</td>\n",
       "      <td>COPD Other names: Bronchitis with Airway Obstr...</td>\n",
       "      <td>7.5</td>\n",
       "      <td>5.0</td>\n",
       "      <td>https://www.drugs.com/mtm/formoterol-and-glyco...</td>\n",
       "      <td>https://www.drugs.com/condition/chronic-obstru...</td>\n",
       "    </tr>\n",
       "    <tr>\n",
       "      <th>1115</th>\n",
       "      <td>ivermectin</td>\n",
       "      <td>Covid 19</td>\n",
       "      <td>hives ; difficult breathing; swelling of your ...</td>\n",
       "      <td>ivermectin (oral)</td>\n",
       "      <td>Anthelmintics</td>\n",
       "      <td>Stromectol</td>\n",
       "      <td>100%</td>\n",
       "      <td>Rx</td>\n",
       "      <td>C</td>\n",
       "      <td>N</td>\n",
       "      <td>X</td>\n",
       "      <td>albendazole: https://www.drugs.com/mtm/albenda...</td>\n",
       "      <td>COVID-19: Prevention &amp; Investigational Treatme...</td>\n",
       "      <td>NaN</td>\n",
       "      <td>NaN</td>\n",
       "      <td>NaN</td>\n",
       "      <td>NaN</td>\n",
       "    </tr>\n",
       "  </tbody>\n",
       "</table>\n",
       "<p>1116 rows × 17 columns</p>\n",
       "</div>"
      ],
      "text/plain": [
       "                                     drug_name medical_condition  \\\n",
       "0                                  doxycycline              Acne   \n",
       "1                               spironolactone              Acne   \n",
       "2                                  minocycline              Acne   \n",
       "3                                     Accutane              Acne   \n",
       "4                                  clindamycin              Acne   \n",
       "...                                        ...               ...   \n",
       "1111                                    Breyna              COPD   \n",
       "1112  budesonide / formoterol / glycopyrrolate              COPD   \n",
       "1113                          Duaklir Pressair              COPD   \n",
       "1114               formoterol / glycopyrrolate              COPD   \n",
       "1115                                ivermectin          Covid 19   \n",
       "\n",
       "                                           side_effects  \\\n",
       "0     (hives, difficult breathing, swelling in your ...   \n",
       "1     hives ; difficulty breathing; swelling of your...   \n",
       "2     skin rash, fever, swollen glands, flu-like sym...   \n",
       "3     problems with your vision or hearing; muscle o...   \n",
       "4     hives ; difficult breathing; swelling of your ...   \n",
       "...                                                 ...   \n",
       "1111                                                NaN   \n",
       "1112  hives ; difficulty breathing; swelling of your...   \n",
       "1113  hives ; difficult breathing; swelling of your ...   \n",
       "1114  hives ; difficult breathing; swelling of your ...   \n",
       "1115  hives ; difficult breathing; swelling of your ...   \n",
       "\n",
       "                                    generic_name  \\\n",
       "0                                    doxycycline   \n",
       "1                                 spironolactone   \n",
       "2                                    minocycline   \n",
       "3                            isotretinoin (oral)   \n",
       "4                            clindamycin topical   \n",
       "...                                          ...   \n",
       "1111          budesonide and formoterol fumarate   \n",
       "1112  budesonide, formoterol, and glycopyrrolate   \n",
       "1113                   aclidinium and formoterol   \n",
       "1114               formoterol and glycopyrrolate   \n",
       "1115                           ivermectin (oral)   \n",
       "\n",
       "                                           drug_classes  \\\n",
       "0            Miscellaneous antimalarials, Tetracyclines   \n",
       "1     Aldosterone receptor antagonists, Potassium-sp...   \n",
       "2                                         Tetracyclines   \n",
       "3     Miscellaneous antineoplastics, Miscellaneous u...   \n",
       "4          Topical acne agents, Vaginal anti-infectives   \n",
       "...                                                 ...   \n",
       "1111                        Bronchodilator combinations   \n",
       "1112                        Bronchodilator combinations   \n",
       "1113                        Bronchodilator combinations   \n",
       "1114                        Bronchodilator combinations   \n",
       "1115                                      Anthelmintics   \n",
       "\n",
       "                                            brand_names activity rx_otc  \\\n",
       "0     Acticlate, Adoxa CK, Adoxa Pak, Adoxa TT, Alod...      87%     Rx   \n",
       "1                                   Aldactone, CaroSpir      82%     Rx   \n",
       "2     Dynacin, Minocin, Minolira, Solodyn, Ximino, V...      48%     Rx   \n",
       "3                                                   NaN      41%     Rx   \n",
       "4     Cleocin T, Clindacin ETZ, Clindacin P, Clindag...      39%     Rx   \n",
       "...                                                 ...      ...    ...   \n",
       "1111                                                NaN       0%     Rx   \n",
       "1112                                 Breztri Aerosphere       0%     Rx   \n",
       "1113                                                NaN       0%     Rx   \n",
       "1114                                 Bevespi Aerosphere       0%     Rx   \n",
       "1115                                         Stromectol     100%     Rx   \n",
       "\n",
       "     pregnancy_category csa alcohol  \\\n",
       "0                     D   N       X   \n",
       "1                     C   N       X   \n",
       "2                     D   N     NaN   \n",
       "3                     X   N       X   \n",
       "4                     B   N     NaN   \n",
       "...                 ...  ..     ...   \n",
       "1111                  C   N     NaN   \n",
       "1112                NaN   N       X   \n",
       "1113                NaN   N     NaN   \n",
       "1114                NaN   N       X   \n",
       "1115                  C   N       X   \n",
       "\n",
       "                                          related_drugs  \\\n",
       "0     amoxicillin: https://www.drugs.com/amoxicillin...   \n",
       "1     amlodipine: https://www.drugs.com/amlodipine.h...   \n",
       "2     amoxicillin: https://www.drugs.com/amoxicillin...   \n",
       "3     doxycycline: https://www.drugs.com/doxycycline...   \n",
       "4     doxycycline: https://www.drugs.com/doxycycline...   \n",
       "...                                                 ...   \n",
       "1111  Trelegy Ellipta: https://www.drugs.com/trelegy...   \n",
       "1112                                                NaN   \n",
       "1113                                                NaN   \n",
       "1114  Trelegy Ellipta: https://www.drugs.com/trelegy...   \n",
       "1115  albendazole: https://www.drugs.com/mtm/albenda...   \n",
       "\n",
       "                          medical_condition_description  rating  \\\n",
       "0     Acne Other names: Acne Vulgaris; Blackheads; B...     6.8   \n",
       "1     Acne Other names: Acne Vulgaris; Blackheads; B...     7.2   \n",
       "2     Acne Other names: Acne Vulgaris; Blackheads; B...     5.7   \n",
       "3     Acne Other names: Acne Vulgaris; Blackheads; B...     7.9   \n",
       "4     Acne Other names: Acne Vulgaris; Blackheads; B...     7.4   \n",
       "...                                                 ...     ...   \n",
       "1111  COPD Other names: Bronchitis with Airway Obstr...     NaN   \n",
       "1112  COPD Other names: Bronchitis with Airway Obstr...     6.7   \n",
       "1113  COPD Other names: Bronchitis with Airway Obstr...     NaN   \n",
       "1114  COPD Other names: Bronchitis with Airway Obstr...     7.5   \n",
       "1115  COVID-19: Prevention & Investigational Treatme...     NaN   \n",
       "\n",
       "      no_of_reviews                                          drug_link  \\\n",
       "0             760.0             https://www.drugs.com/doxycycline.html   \n",
       "1             449.0          https://www.drugs.com/spironolactone.html   \n",
       "2             482.0             https://www.drugs.com/minocycline.html   \n",
       "3             623.0                https://www.drugs.com/accutane.html   \n",
       "4             146.0  https://www.drugs.com/mtm/clindamycin-topical....   \n",
       "...             ...                                                ...   \n",
       "1111            NaN              https://www.drugs.com/pro/breyna.html   \n",
       "1112            3.0  https://www.drugs.com/mtm/budesonide-formotero...   \n",
       "1113            NaN        https://www.drugs.com/duaklir-pressair.html   \n",
       "1114            5.0  https://www.drugs.com/mtm/formoterol-and-glyco...   \n",
       "1115            NaN                                                NaN   \n",
       "\n",
       "                                  medical_condition_url  \n",
       "0             https://www.drugs.com/condition/acne.html  \n",
       "1             https://www.drugs.com/condition/acne.html  \n",
       "2             https://www.drugs.com/condition/acne.html  \n",
       "3             https://www.drugs.com/condition/acne.html  \n",
       "4             https://www.drugs.com/condition/acne.html  \n",
       "...                                                 ...  \n",
       "1111  https://www.drugs.com/condition/chronic-obstru...  \n",
       "1112  https://www.drugs.com/condition/chronic-obstru...  \n",
       "1113  https://www.drugs.com/condition/chronic-obstru...  \n",
       "1114  https://www.drugs.com/condition/chronic-obstru...  \n",
       "1115                                                NaN  \n",
       "\n",
       "[1116 rows x 17 columns]"
      ]
     },
     "execution_count": 10,
     "metadata": {},
     "output_type": "execute_result"
    }
   ],
   "source": [
    "df"
   ]
  },
  {
   "cell_type": "markdown",
   "id": "23c5845d-3d93-4b72-b711-61d86bc790db",
   "metadata": {},
   "source": [
    "# # Viewing the first 5 rows to understand the structure and sample data"
   ]
  },
  {
   "cell_type": "code",
   "execution_count": 30,
   "id": "95aa8806-1f52-4912-bd43-5cd74461bafa",
   "metadata": {
    "scrolled": true
   },
   "outputs": [
    {
     "data": {
      "text/html": [
       "<div>\n",
       "<style scoped>\n",
       "    .dataframe tbody tr th:only-of-type {\n",
       "        vertical-align: middle;\n",
       "    }\n",
       "\n",
       "    .dataframe tbody tr th {\n",
       "        vertical-align: top;\n",
       "    }\n",
       "\n",
       "    .dataframe thead th {\n",
       "        text-align: right;\n",
       "    }\n",
       "</style>\n",
       "<table border=\"1\" class=\"dataframe\">\n",
       "  <thead>\n",
       "    <tr style=\"text-align: right;\">\n",
       "      <th></th>\n",
       "      <th>drug_name</th>\n",
       "      <th>medical_condition</th>\n",
       "      <th>side_effects</th>\n",
       "      <th>generic_name</th>\n",
       "      <th>drug_classes</th>\n",
       "      <th>brand_names</th>\n",
       "      <th>activity</th>\n",
       "      <th>rx_otc</th>\n",
       "      <th>pregnancy_category</th>\n",
       "      <th>csa</th>\n",
       "      <th>alcohol</th>\n",
       "      <th>related_drugs</th>\n",
       "      <th>medical_condition_description</th>\n",
       "      <th>rating</th>\n",
       "      <th>no_of_reviews</th>\n",
       "      <th>drug_link</th>\n",
       "      <th>medical_condition_url</th>\n",
       "    </tr>\n",
       "  </thead>\n",
       "  <tbody>\n",
       "    <tr>\n",
       "      <th>0</th>\n",
       "      <td>doxycycline</td>\n",
       "      <td>Acne</td>\n",
       "      <td>(hives, difficult breathing, swelling in your ...</td>\n",
       "      <td>doxycycline</td>\n",
       "      <td>Miscellaneous antimalarials, Tetracyclines</td>\n",
       "      <td>Acticlate, Adoxa CK, Adoxa Pak, Adoxa TT, Alod...</td>\n",
       "      <td>87%</td>\n",
       "      <td>Rx</td>\n",
       "      <td>D</td>\n",
       "      <td>N</td>\n",
       "      <td>X</td>\n",
       "      <td>amoxicillin: https://www.drugs.com/amoxicillin...</td>\n",
       "      <td>Acne Other names: Acne Vulgaris; Blackheads; B...</td>\n",
       "      <td>6.8</td>\n",
       "      <td>760.0</td>\n",
       "      <td>https://www.drugs.com/doxycycline.html</td>\n",
       "      <td>https://www.drugs.com/condition/acne.html</td>\n",
       "    </tr>\n",
       "    <tr>\n",
       "      <th>1</th>\n",
       "      <td>spironolactone</td>\n",
       "      <td>Acne</td>\n",
       "      <td>hives ; difficulty breathing; swelling of your...</td>\n",
       "      <td>spironolactone</td>\n",
       "      <td>Aldosterone receptor antagonists, Potassium-sp...</td>\n",
       "      <td>Aldactone, CaroSpir</td>\n",
       "      <td>82%</td>\n",
       "      <td>Rx</td>\n",
       "      <td>C</td>\n",
       "      <td>N</td>\n",
       "      <td>X</td>\n",
       "      <td>amlodipine: https://www.drugs.com/amlodipine.h...</td>\n",
       "      <td>Acne Other names: Acne Vulgaris; Blackheads; B...</td>\n",
       "      <td>7.2</td>\n",
       "      <td>449.0</td>\n",
       "      <td>https://www.drugs.com/spironolactone.html</td>\n",
       "      <td>https://www.drugs.com/condition/acne.html</td>\n",
       "    </tr>\n",
       "    <tr>\n",
       "      <th>2</th>\n",
       "      <td>minocycline</td>\n",
       "      <td>Acne</td>\n",
       "      <td>skin rash, fever, swollen glands, flu-like sym...</td>\n",
       "      <td>minocycline</td>\n",
       "      <td>Tetracyclines</td>\n",
       "      <td>Dynacin, Minocin, Minolira, Solodyn, Ximino, V...</td>\n",
       "      <td>48%</td>\n",
       "      <td>Rx</td>\n",
       "      <td>D</td>\n",
       "      <td>N</td>\n",
       "      <td>NaN</td>\n",
       "      <td>amoxicillin: https://www.drugs.com/amoxicillin...</td>\n",
       "      <td>Acne Other names: Acne Vulgaris; Blackheads; B...</td>\n",
       "      <td>5.7</td>\n",
       "      <td>482.0</td>\n",
       "      <td>https://www.drugs.com/minocycline.html</td>\n",
       "      <td>https://www.drugs.com/condition/acne.html</td>\n",
       "    </tr>\n",
       "    <tr>\n",
       "      <th>3</th>\n",
       "      <td>Accutane</td>\n",
       "      <td>Acne</td>\n",
       "      <td>problems with your vision or hearing; muscle o...</td>\n",
       "      <td>isotretinoin (oral)</td>\n",
       "      <td>Miscellaneous antineoplastics, Miscellaneous u...</td>\n",
       "      <td>NaN</td>\n",
       "      <td>41%</td>\n",
       "      <td>Rx</td>\n",
       "      <td>X</td>\n",
       "      <td>N</td>\n",
       "      <td>X</td>\n",
       "      <td>doxycycline: https://www.drugs.com/doxycycline...</td>\n",
       "      <td>Acne Other names: Acne Vulgaris; Blackheads; B...</td>\n",
       "      <td>7.9</td>\n",
       "      <td>623.0</td>\n",
       "      <td>https://www.drugs.com/accutane.html</td>\n",
       "      <td>https://www.drugs.com/condition/acne.html</td>\n",
       "    </tr>\n",
       "    <tr>\n",
       "      <th>4</th>\n",
       "      <td>clindamycin</td>\n",
       "      <td>Acne</td>\n",
       "      <td>hives ; difficult breathing; swelling of your ...</td>\n",
       "      <td>clindamycin topical</td>\n",
       "      <td>Topical acne agents, Vaginal anti-infectives</td>\n",
       "      <td>Cleocin T, Clindacin ETZ, Clindacin P, Clindag...</td>\n",
       "      <td>39%</td>\n",
       "      <td>Rx</td>\n",
       "      <td>B</td>\n",
       "      <td>N</td>\n",
       "      <td>NaN</td>\n",
       "      <td>doxycycline: https://www.drugs.com/doxycycline...</td>\n",
       "      <td>Acne Other names: Acne Vulgaris; Blackheads; B...</td>\n",
       "      <td>7.4</td>\n",
       "      <td>146.0</td>\n",
       "      <td>https://www.drugs.com/mtm/clindamycin-topical....</td>\n",
       "      <td>https://www.drugs.com/condition/acne.html</td>\n",
       "    </tr>\n",
       "  </tbody>\n",
       "</table>\n",
       "</div>"
      ],
      "text/plain": [
       "        drug_name medical_condition  \\\n",
       "0     doxycycline              Acne   \n",
       "1  spironolactone              Acne   \n",
       "2     minocycline              Acne   \n",
       "3        Accutane              Acne   \n",
       "4     clindamycin              Acne   \n",
       "\n",
       "                                        side_effects         generic_name  \\\n",
       "0  (hives, difficult breathing, swelling in your ...          doxycycline   \n",
       "1  hives ; difficulty breathing; swelling of your...       spironolactone   \n",
       "2  skin rash, fever, swollen glands, flu-like sym...          minocycline   \n",
       "3  problems with your vision or hearing; muscle o...  isotretinoin (oral)   \n",
       "4  hives ; difficult breathing; swelling of your ...  clindamycin topical   \n",
       "\n",
       "                                        drug_classes  \\\n",
       "0         Miscellaneous antimalarials, Tetracyclines   \n",
       "1  Aldosterone receptor antagonists, Potassium-sp...   \n",
       "2                                      Tetracyclines   \n",
       "3  Miscellaneous antineoplastics, Miscellaneous u...   \n",
       "4       Topical acne agents, Vaginal anti-infectives   \n",
       "\n",
       "                                         brand_names activity rx_otc  \\\n",
       "0  Acticlate, Adoxa CK, Adoxa Pak, Adoxa TT, Alod...      87%     Rx   \n",
       "1                                Aldactone, CaroSpir      82%     Rx   \n",
       "2  Dynacin, Minocin, Minolira, Solodyn, Ximino, V...      48%     Rx   \n",
       "3                                                NaN      41%     Rx   \n",
       "4  Cleocin T, Clindacin ETZ, Clindacin P, Clindag...      39%     Rx   \n",
       "\n",
       "  pregnancy_category csa alcohol  \\\n",
       "0                  D   N       X   \n",
       "1                  C   N       X   \n",
       "2                  D   N     NaN   \n",
       "3                  X   N       X   \n",
       "4                  B   N     NaN   \n",
       "\n",
       "                                       related_drugs  \\\n",
       "0  amoxicillin: https://www.drugs.com/amoxicillin...   \n",
       "1  amlodipine: https://www.drugs.com/amlodipine.h...   \n",
       "2  amoxicillin: https://www.drugs.com/amoxicillin...   \n",
       "3  doxycycline: https://www.drugs.com/doxycycline...   \n",
       "4  doxycycline: https://www.drugs.com/doxycycline...   \n",
       "\n",
       "                       medical_condition_description  rating  no_of_reviews  \\\n",
       "0  Acne Other names: Acne Vulgaris; Blackheads; B...     6.8          760.0   \n",
       "1  Acne Other names: Acne Vulgaris; Blackheads; B...     7.2          449.0   \n",
       "2  Acne Other names: Acne Vulgaris; Blackheads; B...     5.7          482.0   \n",
       "3  Acne Other names: Acne Vulgaris; Blackheads; B...     7.9          623.0   \n",
       "4  Acne Other names: Acne Vulgaris; Blackheads; B...     7.4          146.0   \n",
       "\n",
       "                                           drug_link  \\\n",
       "0             https://www.drugs.com/doxycycline.html   \n",
       "1          https://www.drugs.com/spironolactone.html   \n",
       "2             https://www.drugs.com/minocycline.html   \n",
       "3                https://www.drugs.com/accutane.html   \n",
       "4  https://www.drugs.com/mtm/clindamycin-topical....   \n",
       "\n",
       "                       medical_condition_url  \n",
       "0  https://www.drugs.com/condition/acne.html  \n",
       "1  https://www.drugs.com/condition/acne.html  \n",
       "2  https://www.drugs.com/condition/acne.html  \n",
       "3  https://www.drugs.com/condition/acne.html  \n",
       "4  https://www.drugs.com/condition/acne.html  "
      ]
     },
     "execution_count": 30,
     "metadata": {},
     "output_type": "execute_result"
    }
   ],
   "source": [
    "df.head()"
   ]
  },
  {
   "cell_type": "markdown",
   "id": "e95c35e2-c8d3-49bf-97f1-d75605623211",
   "metadata": {},
   "source": [
    "# 2. Data Overview"
   ]
  },
  {
   "cell_type": "markdown",
   "id": "4800b203-528f-409d-83e5-5a493598ba42",
   "metadata": {},
   "source": [
    "# Checking the shape (rows, columns) of the dataset"
   ]
  },
  {
   "cell_type": "code",
   "execution_count": 31,
   "id": "f2f295c5-9536-4e8c-aa2a-04ae128e4729",
   "metadata": {},
   "outputs": [
    {
     "name": "stdout",
     "output_type": "stream",
     "text": [
      "Dataset shape: (1116, 17)\n"
     ]
    }
   ],
   "source": [
    "print(\"Dataset shape:\", df.shape)"
   ]
  },
  {
   "cell_type": "markdown",
   "id": "885fffc9-e8f3-446a-b81e-a967e746775b",
   "metadata": {},
   "source": [
    "# Summary information about the dataset including data types and non-null values"
   ]
  },
  {
   "cell_type": "code",
   "execution_count": 20,
   "id": "efc73753-b825-44f4-b06c-6f1979978106",
   "metadata": {},
   "outputs": [
    {
     "name": "stdout",
     "output_type": "stream",
     "text": [
      "<class 'pandas.core.frame.DataFrame'>\n",
      "RangeIndex: 1116 entries, 0 to 1115\n",
      "Data columns (total 17 columns):\n",
      " #   Column                         Non-Null Count  Dtype  \n",
      "---  ------                         --------------  -----  \n",
      " 0   drug_name                      1116 non-null   object \n",
      " 1   medical_condition              1116 non-null   object \n",
      " 2   side_effects                   1085 non-null   object \n",
      " 3   generic_name                   1103 non-null   object \n",
      " 4   drug_classes                   1094 non-null   object \n",
      " 5   brand_names                    693 non-null    object \n",
      " 6   activity                       1116 non-null   object \n",
      " 7   rx_otc                         1116 non-null   object \n",
      " 8   pregnancy_category             1033 non-null   object \n",
      " 9   csa                            1116 non-null   object \n",
      " 10  alcohol                        542 non-null    object \n",
      " 11  related_drugs                  561 non-null    object \n",
      " 12  medical_condition_description  1116 non-null   object \n",
      " 13  rating                         560 non-null    float64\n",
      " 14  no_of_reviews                  560 non-null    float64\n",
      " 15  drug_link                      1115 non-null   object \n",
      " 16  medical_condition_url          1115 non-null   object \n",
      "dtypes: float64(2), object(15)\n",
      "memory usage: 148.3+ KB\n",
      "Info: None\n"
     ]
    }
   ],
   "source": [
    "print(\"Info:\", df.info())"
   ]
  },
  {
   "cell_type": "markdown",
   "id": "ba5d9c89-59f5-4726-a16d-2c840afe66a5",
   "metadata": {},
   "source": [
    "# Columns names "
   ]
  },
  {
   "cell_type": "code",
   "execution_count": 32,
   "id": "e018dec7-f9f5-49a4-8ec1-7ad9c5bb4934",
   "metadata": {},
   "outputs": [
    {
     "name": "stdout",
     "output_type": "stream",
     "text": [
      "columns: ['drug_name', 'medical_condition', 'side_effects', 'generic_name', 'drug_classes', 'brand_names', 'activity', 'rx_otc', 'pregnancy_category', 'csa', 'alcohol', 'related_drugs', 'medical_condition_description', 'rating', 'no_of_reviews', 'drug_link', 'medical_condition_url']\n"
     ]
    }
   ],
   "source": [
    "print(\"columns:\", df.columns.tolist())"
   ]
  },
  {
   "cell_type": "markdown",
   "id": "0cb8038d-96f4-470f-b228-25a1884e2171",
   "metadata": {},
   "source": [
    "# Checking missing values"
   ]
  },
  {
   "cell_type": "code",
   "execution_count": 33,
   "id": "327b56ba-0d33-4008-82bc-739fb18b7fbd",
   "metadata": {},
   "outputs": [
    {
     "name": "stdout",
     "output_type": "stream",
     "text": [
      "Missing values:\n",
      " drug_name                          0\n",
      "medical_condition                  0\n",
      "side_effects                      31\n",
      "generic_name                      13\n",
      "drug_classes                      22\n",
      "brand_names                      423\n",
      "activity                           0\n",
      "rx_otc                             0\n",
      "pregnancy_category                83\n",
      "csa                                0\n",
      "alcohol                          574\n",
      "related_drugs                    555\n",
      "medical_condition_description      0\n",
      "rating                           556\n",
      "no_of_reviews                    556\n",
      "drug_link                          1\n",
      "medical_condition_url              1\n",
      "dtype: int64\n"
     ]
    }
   ],
   "source": [
    "print(\"Missing values:\\n\", df.isnull().sum())"
   ]
  },
  {
   "cell_type": "markdown",
   "id": "cbef1625-b31c-4e54-b530-56212489b34e",
   "metadata": {},
   "source": [
    "# 3. Missing Data Analysis"
   ]
  },
  {
   "cell_type": "markdown",
   "id": "0bbcce1a-96b0-4e8d-8a65-4bd956fcd5bd",
   "metadata": {},
   "source": [
    "# Check missing values"
   ]
  },
  {
   "cell_type": "code",
   "execution_count": 59,
   "id": "6db5a579-0504-45e7-b234-3d142ab05e12",
   "metadata": {},
   "outputs": [
    {
     "name": "stdout",
     "output_type": "stream",
     "text": [
      "alcohol                          574\n",
      "no_of_reviews                    556\n",
      "rating                           556\n",
      "related_drugs                    555\n",
      "brand_names                      423\n",
      "pregnancy_category                83\n",
      "side_effects                      31\n",
      "drug_classes                      22\n",
      "generic_name                      13\n",
      "drug_link                          1\n",
      "medical_condition_url              1\n",
      "csa                                0\n",
      "medical_condition_description      0\n",
      "medical_condition                  0\n",
      "rx_otc                             0\n",
      "activity                           0\n",
      "drug_name                          0\n",
      "dtype: int64\n"
     ]
    }
   ],
   "source": [
    "missing_values = df.isnull().sum().sort_values(ascending=False)\n",
    "print(missing_values)"
   ]
  },
  {
   "cell_type": "markdown",
   "id": "2c5ee054-f5e5-4bd5-a935-936f9644557d",
   "metadata": {},
   "source": [
    "# Visualizing missing data"
   ]
  },
  {
   "cell_type": "code",
   "execution_count": 67,
   "id": "0bd6ad8b-4e32-4e9d-9383-6d5b58836696",
   "metadata": {},
   "outputs": [
    {
     "data": {
      "image/png": "[encoded data removed]",
      "text/plain": [
       "<Figure size 1000x600 with 1 Axes>"
      ]
     },
     "metadata": {},
     "output_type": "display_data"
    }
   ],
   "source": [
    "plt.figure(figsize=(10, 6))\n",
    "sns.heatmap(df.isnull(), cbar=False, cmap=\"viridis\")\n",
    "plt.title(\"Missing Values Heatmap\")\n",
    "plt.show()"
   ]
  },
  {
   "cell_type": "markdown",
   "id": "59e64502-6f7d-4d10-bdd0-01bb90538804",
   "metadata": {},
   "source": [
    "# 4. Descriptive Statistics"
   ]
  },
  {
   "cell_type": "markdown",
   "id": "c1f5d53c-9386-43c6-800f-d41bedf7b4bb",
   "metadata": {},
   "source": [
    "# Summary Statistics"
   ]
  },
  {
   "cell_type": "code",
   "execution_count": 35,
   "id": "bec1ba95-fa14-4aed-aea6-c5f99cb9484c",
   "metadata": {},
   "outputs": [
    {
     "data": {
      "text/html": [
       "<div>\n",
       "<style scoped>\n",
       "    .dataframe tbody tr th:only-of-type {\n",
       "        vertical-align: middle;\n",
       "    }\n",
       "\n",
       "    .dataframe tbody tr th {\n",
       "        vertical-align: top;\n",
       "    }\n",
       "\n",
       "    .dataframe thead th {\n",
       "        text-align: right;\n",
       "    }\n",
       "</style>\n",
       "<table border=\"1\" class=\"dataframe\">\n",
       "  <thead>\n",
       "    <tr style=\"text-align: right;\">\n",
       "      <th></th>\n",
       "      <th>rating</th>\n",
       "      <th>no_of_reviews</th>\n",
       "    </tr>\n",
       "  </thead>\n",
       "  <tbody>\n",
       "    <tr>\n",
       "      <th>count</th>\n",
       "      <td>560.000000</td>\n",
       "      <td>560.000000</td>\n",
       "    </tr>\n",
       "    <tr>\n",
       "      <th>mean</th>\n",
       "      <td>6.997500</td>\n",
       "      <td>88.607143</td>\n",
       "    </tr>\n",
       "    <tr>\n",
       "      <th>std</th>\n",
       "      <td>2.198502</td>\n",
       "      <td>189.768315</td>\n",
       "    </tr>\n",
       "    <tr>\n",
       "      <th>min</th>\n",
       "      <td>0.000000</td>\n",
       "      <td>1.000000</td>\n",
       "    </tr>\n",
       "    <tr>\n",
       "      <th>25%</th>\n",
       "      <td>5.800000</td>\n",
       "      <td>2.000000</td>\n",
       "    </tr>\n",
       "    <tr>\n",
       "      <th>50%</th>\n",
       "      <td>7.300000</td>\n",
       "      <td>11.000000</td>\n",
       "    </tr>\n",
       "    <tr>\n",
       "      <th>75%</th>\n",
       "      <td>8.500000</td>\n",
       "      <td>64.250000</td>\n",
       "    </tr>\n",
       "    <tr>\n",
       "      <th>max</th>\n",
       "      <td>10.000000</td>\n",
       "      <td>1471.000000</td>\n",
       "    </tr>\n",
       "  </tbody>\n",
       "</table>\n",
       "</div>"
      ],
      "text/plain": [
       "           rating  no_of_reviews\n",
       "count  560.000000     560.000000\n",
       "mean     6.997500      88.607143\n",
       "std      2.198502     189.768315\n",
       "min      0.000000       1.000000\n",
       "25%      5.800000       2.000000\n",
       "50%      7.300000      11.000000\n",
       "75%      8.500000      64.250000\n",
       "max     10.000000    1471.000000"
      ]
     },
     "execution_count": 35,
     "metadata": {},
     "output_type": "execute_result"
    }
   ],
   "source": [
    "df[['rating', 'no_of_reviews']].describe()"
   ]
  },
  {
   "cell_type": "markdown",
   "id": "3bae73a4-c892-427b-95a9-04ce438e3841",
   "metadata": {},
   "source": [
    "# 5. Top 10 Highest Rated Drugs"
   ]
  },
  {
   "cell_type": "code",
   "execution_count": 39,
   "id": "e372f0aa-d893-4792-b34b-7e7554c66f91",
   "metadata": {},
   "outputs": [
    {
     "name": "stdout",
     "output_type": "stream",
     "text": [
      "                                             drug_name  rating  no_of_reviews\n",
      "579                    Ipratropium Inhalation Solution    10.0            1.0\n",
      "860                          Drixoral Cold and Allergy    10.0            9.0\n",
      "81                                               Avita    10.0            1.0\n",
      "902      dextromethorphan / phenylephrine / pyrilamine    10.0            2.0\n",
      "901               dexbrompheniramine / pseudoephedrine    10.0           11.0\n",
      "77                                               Acnex    10.0            1.0\n",
      "874  acetaminophen / dextromethorphan / guaifenesin...    10.0            1.0\n",
      "862                                          Ed A-Hist    10.0            1.0\n",
      "67                                            Ery Pads    10.0            1.0\n",
      "769                                           FloLipid    10.0            1.0\n"
     ]
    }
   ],
   "source": [
    "top_rated = df[['drug_name', 'rating', 'no_of_reviews']].dropna()\n",
    "top_rated = top_rated.sort_values(by='rating', ascending=False).head(10)\n",
    "print(top_rated)"
   ]
  },
  {
   "cell_type": "markdown",
   "id": "ac69fa00-ea3e-460b-8fb2-bbf94e70b7ae",
   "metadata": {},
   "source": [
    "# 6. Ratings Distrubution Visualization"
   ]
  },
  {
   "cell_type": "code",
   "execution_count": 40,
   "id": "d25a5c3f-19c3-4d3b-8beb-90ca378fba41",
   "metadata": {},
   "outputs": [
    {
     "data": {
      "image/png": "[encoded data removed]",
      "text/plain": [
       "<Figure size 1000x600 with 1 Axes>"
      ]
     },
     "metadata": {},
     "output_type": "display_data"
    }
   ],
   "source": [
    "plt.figure(figsize=(10,6))\n",
    "plt.hist(df['rating'].dropna(), bins=20, color='skyblue', edgecolor='black')\n",
    "plt.title('Distribution of Drug Ratings')\n",
    "plt.xlabel('Rating')\n",
    "plt.ylabel('Number of Drugs')\n",
    "plt.grid(True)\n",
    "plt.show()"
   ]
  },
  {
   "cell_type": "markdown",
   "id": "d707806d-7265-4905-bea2-db68aa860a63",
   "metadata": {},
   "source": [
    "# 7. Most Common Medical Conditions"
   ]
  },
  {
   "cell_type": "code",
   "execution_count": 41,
   "id": "4a6145c5-37c7-4bf1-88b1-45a6fa11acf1",
   "metadata": {},
   "outputs": [
    {
     "name": "stdout",
     "output_type": "stream",
     "text": [
      "medical_condition\n",
      "Colds & Flu         245\n",
      "Acne                238\n",
      "AIDS/HIV            109\n",
      "Angina               71\n",
      "Bronchitis           71\n",
      "Constipation         60\n",
      "ADHD                 55\n",
      "Bipolar Disorder     47\n",
      "Anxiety              45\n",
      "Asthma               45\n",
      "Name: count, dtype: int64\n"
     ]
    },
    {
     "data": {
      "image/png": "[encoded data removed]",
      "text/plain": [
       "<Figure size 1000x600 with 1 Axes>"
      ]
     },
     "metadata": {},
     "output_type": "display_data"
    }
   ],
   "source": [
    "# Count most common medical conditions\n",
    "condition_counts = df['medical_condition'].value_counts().head(10)\n",
    "print(condition_counts)\n",
    "\n",
    "# Bar chart\n",
    "plt.figure(figsize=(10,6))\n",
    "condition_counts.plot(kind='bar', color='lightcoral')\n",
    "plt.title('Top 10 Medical Conditions')\n",
    "plt.xlabel('Medical Condition')\n",
    "plt.ylabel('Number of Drugs')\n",
    "plt.xticks(rotation=45)\n",
    "plt.grid(axis='y')\n",
    "plt.tight_layout()\n",
    "plt.show()"
   ]
  },
  {
   "cell_type": "markdown",
   "id": "9841478f-450a-42f8-a9ea-41b5bdb598bd",
   "metadata": {},
   "source": [
    "# 8. Drugs with Alcohol Warnings"
   ]
  },
  {
   "cell_type": "markdown",
   "id": "cce9ae13-1b56-4c26-8896-94683ea62f1d",
   "metadata": {},
   "source": [
    "# Drugs with alcohol interaction info"
   ]
  },
  {
   "cell_type": "code",
   "execution_count": 45,
   "id": "a9d839f8-eb14-426d-9dc8-9492f96e3442",
   "metadata": {},
   "outputs": [
    {
     "data": {
      "text/html": [
       "<div>\n",
       "<style scoped>\n",
       "    .dataframe tbody tr th:only-of-type {\n",
       "        vertical-align: middle;\n",
       "    }\n",
       "\n",
       "    .dataframe tbody tr th {\n",
       "        vertical-align: top;\n",
       "    }\n",
       "\n",
       "    .dataframe thead th {\n",
       "        text-align: right;\n",
       "    }\n",
       "</style>\n",
       "<table border=\"1\" class=\"dataframe\">\n",
       "  <thead>\n",
       "    <tr style=\"text-align: right;\">\n",
       "      <th></th>\n",
       "      <th>drug_name</th>\n",
       "      <th>alcohol</th>\n",
       "    </tr>\n",
       "  </thead>\n",
       "  <tbody>\n",
       "    <tr>\n",
       "      <th>0</th>\n",
       "      <td>doxycycline</td>\n",
       "      <td>X</td>\n",
       "    </tr>\n",
       "    <tr>\n",
       "      <th>1</th>\n",
       "      <td>spironolactone</td>\n",
       "      <td>X</td>\n",
       "    </tr>\n",
       "    <tr>\n",
       "      <th>3</th>\n",
       "      <td>Accutane</td>\n",
       "      <td>X</td>\n",
       "    </tr>\n",
       "    <tr>\n",
       "      <th>5</th>\n",
       "      <td>Aldactone</td>\n",
       "      <td>X</td>\n",
       "    </tr>\n",
       "    <tr>\n",
       "      <th>7</th>\n",
       "      <td>isotretinoin</td>\n",
       "      <td>X</td>\n",
       "    </tr>\n",
       "    <tr>\n",
       "      <th>8</th>\n",
       "      <td>Bactrim</td>\n",
       "      <td>X</td>\n",
       "    </tr>\n",
       "    <tr>\n",
       "      <th>16</th>\n",
       "      <td>Doryx</td>\n",
       "      <td>X</td>\n",
       "    </tr>\n",
       "    <tr>\n",
       "      <th>18</th>\n",
       "      <td>Septra</td>\n",
       "      <td>X</td>\n",
       "    </tr>\n",
       "    <tr>\n",
       "      <th>21</th>\n",
       "      <td>Vibramycin</td>\n",
       "      <td>X</td>\n",
       "    </tr>\n",
       "    <tr>\n",
       "      <th>22</th>\n",
       "      <td>Acticlate</td>\n",
       "      <td>X</td>\n",
       "    </tr>\n",
       "  </tbody>\n",
       "</table>\n",
       "</div>"
      ],
      "text/plain": [
       "         drug_name alcohol\n",
       "0      doxycycline       X\n",
       "1   spironolactone       X\n",
       "3         Accutane       X\n",
       "5        Aldactone       X\n",
       "7     isotretinoin       X\n",
       "8          Bactrim       X\n",
       "16           Doryx       X\n",
       "18          Septra       X\n",
       "21      Vibramycin       X\n",
       "22       Acticlate       X"
      ]
     },
     "execution_count": 45,
     "metadata": {},
     "output_type": "execute_result"
    }
   ],
   "source": [
    "alcohol_warn = df[df['alcohol'].notnull()][['drug_name', 'alcohol']]\n",
    "alcohol_warn.head(10)"
   ]
  },
  {
   "cell_type": "markdown",
   "id": "ff75193f-bab5-4453-ada5-cce84320957c",
   "metadata": {},
   "source": [
    "# 9. Preganancy Category Analysis"
   ]
  },
  {
   "cell_type": "markdown",
   "id": "2b279e63-079d-4a5e-b98c-72513503d185",
   "metadata": {},
   "source": [
    "# Count of drugs in each pregnancy category"
   ]
  },
  {
   "cell_type": "code",
   "execution_count": 47,
   "id": "62f6c928-0be4-4423-a016-a50c649bd4b2",
   "metadata": {},
   "outputs": [
    {
     "data": {
      "image/png": "[encoded data removed]",
      "text/plain": [
       "<Figure size 800x600 with 1 Axes>"
      ]
     },
     "metadata": {},
     "output_type": "display_data"
    }
   ],
   "source": [
    "preg_counts = df['pregnancy_category'].value_counts()\n",
    "\n",
    "plt.figure(figsize=(8,6))\n",
    "preg_counts.plot(kind='bar', color='lightgreen')\n",
    "plt.title('Drugs by Pregnancy Category')\n",
    "plt.xlabel('Pregnancy Category')\n",
    "plt.ylabel('Number of Drugs')\n",
    "plt.grid(axis='y')\n",
    "plt.tight_layout()\n",
    "plt.show()"
   ]
  },
  {
   "cell_type": "markdown",
   "id": "9e931af4-90b8-4562-aa08-ca55185a0eac",
   "metadata": {},
   "source": [
    "# 10. Rating vs Number of Reviews"
   ]
  },
  {
   "cell_type": "code",
   "execution_count": 48,
   "id": "e0ba4c92-fe75-42dc-98ca-aa37a37c3724",
   "metadata": {},
   "outputs": [
    {
     "data": {
      "image/png": "[encoded data removed]",
      "text/plain": [
       "<Figure size 1000x600 with 1 Axes>"
      ]
     },
     "metadata": {},
     "output_type": "display_data"
    }
   ],
   "source": [
    "plt.figure(figsize=(10,6))\n",
    "plt.scatter(df['no_of_reviews'], df['rating'], alpha=0.5, color='purple')\n",
    "plt.title('Rating vs. Number of Reviews')\n",
    "plt.xlabel('Number of Reviews')\n",
    "plt.ylabel('Rating')\n",
    "plt.grid(True)\n",
    "plt.show()"
   ]
  },
  {
   "cell_type": "markdown",
   "id": "690a2720-1203-4fee-8dc3-a7aa47e5ae3b",
   "metadata": {},
   "source": [
    "# 11. Top Drugs by Average Rating per Condition"
   ]
  },
  {
   "cell_type": "code",
   "execution_count": 12,
   "id": "3c311281-8fe7-4ccc-a663-0838b2c3721f",
   "metadata": {},
   "outputs": [
    {
     "data": {
      "text/html": [
       "<div>\n",
       "<style scoped>\n",
       "    .dataframe tbody tr th:only-of-type {\n",
       "        vertical-align: middle;\n",
       "    }\n",
       "\n",
       "    .dataframe tbody tr th {\n",
       "        vertical-align: top;\n",
       "    }\n",
       "\n",
       "    .dataframe thead th {\n",
       "        text-align: right;\n",
       "    }\n",
       "</style>\n",
       "<table border=\"1\" class=\"dataframe\">\n",
       "  <thead>\n",
       "    <tr style=\"text-align: right;\">\n",
       "      <th></th>\n",
       "      <th>medical_condition</th>\n",
       "      <th>drug_name</th>\n",
       "      <th>rating</th>\n",
       "    </tr>\n",
       "  </thead>\n",
       "  <tbody>\n",
       "    <tr>\n",
       "      <th>53</th>\n",
       "      <td>ADHD</td>\n",
       "      <td>selegiline</td>\n",
       "      <td>10.0</td>\n",
       "    </tr>\n",
       "    <tr>\n",
       "      <th>24</th>\n",
       "      <td>ADHD</td>\n",
       "      <td>ProCentra</td>\n",
       "      <td>9.5</td>\n",
       "    </tr>\n",
       "    <tr>\n",
       "      <th>10</th>\n",
       "      <td>ADHD</td>\n",
       "      <td>Desoxyn</td>\n",
       "      <td>9.4</td>\n",
       "    </tr>\n",
       "    <tr>\n",
       "      <th>49</th>\n",
       "      <td>ADHD</td>\n",
       "      <td>methamphetamine</td>\n",
       "      <td>8.8</td>\n",
       "    </tr>\n",
       "    <tr>\n",
       "      <th>18</th>\n",
       "      <td>ADHD</td>\n",
       "      <td>Jornay PM</td>\n",
       "      <td>8.7</td>\n",
       "    </tr>\n",
       "    <tr>\n",
       "      <th>11</th>\n",
       "      <td>ADHD</td>\n",
       "      <td>Dexedrine</td>\n",
       "      <td>8.6</td>\n",
       "    </tr>\n",
       "    <tr>\n",
       "      <th>22</th>\n",
       "      <td>ADHD</td>\n",
       "      <td>Methylin ER</td>\n",
       "      <td>8.5</td>\n",
       "    </tr>\n",
       "    <tr>\n",
       "      <th>9</th>\n",
       "      <td>ADHD</td>\n",
       "      <td>Daytrana</td>\n",
       "      <td>8.3</td>\n",
       "    </tr>\n",
       "    <tr>\n",
       "      <th>45</th>\n",
       "      <td>ADHD</td>\n",
       "      <td>dextroamphetamine</td>\n",
       "      <td>8.3</td>\n",
       "    </tr>\n",
       "    <tr>\n",
       "      <th>21</th>\n",
       "      <td>ADHD</td>\n",
       "      <td>Methylin</td>\n",
       "      <td>8.2</td>\n",
       "    </tr>\n",
       "  </tbody>\n",
       "</table>\n",
       "</div>"
      ],
      "text/plain": [
       "   medical_condition          drug_name  rating\n",
       "53              ADHD         selegiline    10.0\n",
       "24              ADHD          ProCentra     9.5\n",
       "10              ADHD            Desoxyn     9.4\n",
       "49              ADHD    methamphetamine     8.8\n",
       "18              ADHD          Jornay PM     8.7\n",
       "11              ADHD          Dexedrine     8.6\n",
       "22              ADHD        Methylin ER     8.5\n",
       "9               ADHD           Daytrana     8.3\n",
       "45              ADHD  dextroamphetamine     8.3\n",
       "21              ADHD           Methylin     8.2"
      ]
     },
     "execution_count": 12,
     "metadata": {},
     "output_type": "execute_result"
    }
   ],
   "source": [
    "top_drugs_by_condition = df.groupby(['medical_condition', 'drug_name'])['rating'].mean().reset_index()\n",
    "top_drugs_by_condition = top_drugs_by_condition.sort_values(['medical_condition', 'rating'], ascending=[True, False])\n",
    "top_drugs_by_condition.head(10)"
   ]
  },
  {
   "cell_type": "markdown",
   "id": "3404f9de-5948-4b7b-9851-54e8ad586b7e",
   "metadata": {},
   "source": [
    "# 12. Most Frequent Side Effects"
   ]
  },
  {
   "cell_type": "code",
   "execution_count": 14,
   "id": "a4b591f6-2da8-46a0-a096-60e8ad249c42",
   "metadata": {},
   "outputs": [
    {
     "data": {
      "text/html": [
       "<div>\n",
       "<style scoped>\n",
       "    .dataframe tbody tr th:only-of-type {\n",
       "        vertical-align: middle;\n",
       "    }\n",
       "\n",
       "    .dataframe tbody tr th {\n",
       "        vertical-align: top;\n",
       "    }\n",
       "\n",
       "    .dataframe thead th {\n",
       "        text-align: right;\n",
       "    }\n",
       "</style>\n",
       "<table border=\"1\" class=\"dataframe\">\n",
       "  <thead>\n",
       "    <tr style=\"text-align: right;\">\n",
       "      <th></th>\n",
       "      <th>Side Effect</th>\n",
       "      <th>Count</th>\n",
       "    </tr>\n",
       "  </thead>\n",
       "  <tbody>\n",
       "    <tr>\n",
       "      <th>0</th>\n",
       "      <td>lips</td>\n",
       "      <td>925</td>\n",
       "    </tr>\n",
       "    <tr>\n",
       "      <th>1</th>\n",
       "      <td>tongue</td>\n",
       "      <td>864</td>\n",
       "    </tr>\n",
       "    <tr>\n",
       "      <th>2</th>\n",
       "      <td>hives  difficult breathing swelling of your face</td>\n",
       "      <td>400</td>\n",
       "    </tr>\n",
       "    <tr>\n",
       "      <th>3</th>\n",
       "      <td>vomiting</td>\n",
       "      <td>327</td>\n",
       "    </tr>\n",
       "    <tr>\n",
       "      <th>4</th>\n",
       "      <td>face</td>\n",
       "      <td>249</td>\n",
       "    </tr>\n",
       "    <tr>\n",
       "      <th>5</th>\n",
       "      <td>dark urine</td>\n",
       "      <td>232</td>\n",
       "    </tr>\n",
       "    <tr>\n",
       "      <th>6</th>\n",
       "      <td>itching</td>\n",
       "      <td>226</td>\n",
       "    </tr>\n",
       "    <tr>\n",
       "      <th>7</th>\n",
       "      <td>nausea</td>\n",
       "      <td>218</td>\n",
       "    </tr>\n",
       "    <tr>\n",
       "      <th>8</th>\n",
       "      <td>diarrhea</td>\n",
       "      <td>210</td>\n",
       "    </tr>\n",
       "    <tr>\n",
       "      <th>9</th>\n",
       "      <td>clay-colored stools</td>\n",
       "      <td>187</td>\n",
       "    </tr>\n",
       "  </tbody>\n",
       "</table>\n",
       "</div>"
      ],
      "text/plain": [
       "                                        Side Effect  Count\n",
       "0                                              lips    925\n",
       "1                                            tongue    864\n",
       "2  hives  difficult breathing swelling of your face    400\n",
       "3                                          vomiting    327\n",
       "4                                              face    249\n",
       "5                                        dark urine    232\n",
       "6                                           itching    226\n",
       "7                                            nausea    218\n",
       "8                                          diarrhea    210\n",
       "9                               clay-colored stools    187"
      ]
     },
     "execution_count": 14,
     "metadata": {},
     "output_type": "execute_result"
    }
   ],
   "source": [
    "from collections import Counter\n",
    "\n",
    "side_effects_series = df['side_effects'].dropna().str.replace('[();]', '', regex=True).str.split(', ')\n",
    "side_effects_flat = [item.strip().lower() for sublist in side_effects_series for item in sublist]\n",
    "side_effect_counts = pd.DataFrame(Counter(side_effects_flat).most_common(10), columns=['Side Effect', 'Count'])\n",
    "side_effect_counts"
   ]
  },
  {
   "cell_type": "markdown",
   "id": "459480d8-9791-46c1-b862-865d5d07bd39",
   "metadata": {},
   "source": [
    "# 13. Pregnancy Category vs. Average Rating"
   ]
  },
  {
   "cell_type": "code",
   "execution_count": 15,
   "id": "37fe6dcf-c742-4909-9412-959c185096bc",
   "metadata": {},
   "outputs": [
    {
     "data": {
      "text/html": [
       "<div>\n",
       "<style scoped>\n",
       "    .dataframe tbody tr th:only-of-type {\n",
       "        vertical-align: middle;\n",
       "    }\n",
       "\n",
       "    .dataframe tbody tr th {\n",
       "        vertical-align: top;\n",
       "    }\n",
       "\n",
       "    .dataframe thead th {\n",
       "        text-align: right;\n",
       "    }\n",
       "</style>\n",
       "<table border=\"1\" class=\"dataframe\">\n",
       "  <thead>\n",
       "    <tr style=\"text-align: right;\">\n",
       "      <th></th>\n",
       "      <th>pregnancy_category</th>\n",
       "      <th>rating</th>\n",
       "    </tr>\n",
       "  </thead>\n",
       "  <tbody>\n",
       "    <tr>\n",
       "      <th>2</th>\n",
       "      <td>D</td>\n",
       "      <td>7.511111</td>\n",
       "    </tr>\n",
       "    <tr>\n",
       "      <th>3</th>\n",
       "      <td>N</td>\n",
       "      <td>7.386667</td>\n",
       "    </tr>\n",
       "    <tr>\n",
       "      <th>1</th>\n",
       "      <td>C</td>\n",
       "      <td>7.056015</td>\n",
       "    </tr>\n",
       "    <tr>\n",
       "      <th>0</th>\n",
       "      <td>B</td>\n",
       "      <td>6.675000</td>\n",
       "    </tr>\n",
       "    <tr>\n",
       "      <th>4</th>\n",
       "      <td>X</td>\n",
       "      <td>6.255319</td>\n",
       "    </tr>\n",
       "  </tbody>\n",
       "</table>\n",
       "</div>"
      ],
      "text/plain": [
       "  pregnancy_category    rating\n",
       "2                  D  7.511111\n",
       "3                  N  7.386667\n",
       "1                  C  7.056015\n",
       "0                  B  6.675000\n",
       "4                  X  6.255319"
      ]
     },
     "execution_count": 15,
     "metadata": {},
     "output_type": "execute_result"
    }
   ],
   "source": [
    "preg_rating = df.groupby('pregnancy_category')['rating'].mean().reset_index().sort_values(by='rating', ascending=False)\n",
    "preg_rating"
   ]
  },
  {
   "cell_type": "markdown",
   "id": "f5db6e44-01df-4223-a487-a472a0fecf98",
   "metadata": {},
   "source": [
    "# 14. Alcohol Warning vs. Average Rating"
   ]
  },
  {
   "cell_type": "code",
   "execution_count": 16,
   "id": "1ce115cb-3d31-472b-94d9-4facd83f2cd0",
   "metadata": {},
   "outputs": [
    {
     "data": {
      "text/html": [
       "<div>\n",
       "<style scoped>\n",
       "    .dataframe tbody tr th:only-of-type {\n",
       "        vertical-align: middle;\n",
       "    }\n",
       "\n",
       "    .dataframe tbody tr th {\n",
       "        vertical-align: top;\n",
       "    }\n",
       "\n",
       "    .dataframe thead th {\n",
       "        text-align: right;\n",
       "    }\n",
       "</style>\n",
       "<table border=\"1\" class=\"dataframe\">\n",
       "  <thead>\n",
       "    <tr style=\"text-align: right;\">\n",
       "      <th></th>\n",
       "      <th>alcohol</th>\n",
       "      <th>rating</th>\n",
       "    </tr>\n",
       "  </thead>\n",
       "  <tbody>\n",
       "    <tr>\n",
       "      <th>0</th>\n",
       "      <td>X</td>\n",
       "      <td>6.965399</td>\n",
       "    </tr>\n",
       "  </tbody>\n",
       "</table>\n",
       "</div>"
      ],
      "text/plain": [
       "  alcohol    rating\n",
       "0       X  6.965399"
      ]
     },
     "execution_count": 16,
     "metadata": {},
     "output_type": "execute_result"
    }
   ],
   "source": [
    "alcohol_rating = df.groupby('alcohol')['rating'].mean().reset_index().sort_values(by='rating', ascending=False)\n",
    "alcohol_rating"
   ]
  }
 ],
 "metadata": {
  "kernelspec": {
   "display_name": "Python 3 (ipykernel)",
   "language": "python",
   "name": "python3"
  },
  "language_info": {
   "codemirror_mode": {
    "name": "ipython",
    "version": 3
   },
   "file_extension": ".py",
   "mimetype": "text/x-python",
   "name": "python",
   "nbconvert_exporter": "python",
   "pygments_lexer": "ipython3",
   "version": "3.12.7"
  }
 },
 "nbformat": 4,
 "nbformat_minor": 5
}
